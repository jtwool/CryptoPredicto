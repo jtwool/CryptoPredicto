{
 "cells": [
  {
   "cell_type": "markdown",
   "metadata": {},
   "source": [
    "##### Some standard imports..."
   ]
  },
  {
   "cell_type": "code",
   "execution_count": 419,
   "metadata": {},
   "outputs": [],
   "source": [
    "from sklearn.svm import LinearSVR,LinearSVC\n",
    "from sklearn.linear_model import Lasso,Ridge\n",
    "from sklearn.neural_network import MLPRegressor,MLPClassifier\n",
    "from sklearn.model_selection import KFold\n",
    "from sklearn.metrics import mean_squared_error, explained_variance_score, r2_score, accuracy_score as accuracy\n",
    "from sklearn.preprocessing import normalize\n",
    "import pandas as pd, numpy as np\n",
    "from functools import reduce\n",
    "import matplotlib.pyplot as plt\n",
    "%matplotlib inline"
   ]
  },
  {
   "cell_type": "markdown",
   "metadata": {},
   "source": [
    "##### Loading and data preprocessing..."
   ]
  },
  {
   "cell_type": "code",
   "execution_count": 312,
   "metadata": {},
   "outputs": [],
   "source": [
    "targets = pd.read_csv(\"./CoinTargets.csv\")\n",
    "ftrs = pd.read_csv(\"./myFeaturesWPaths.csv\")"
   ]
  },
  {
   "cell_type": "code",
   "execution_count": 313,
   "metadata": {},
   "outputs": [],
   "source": [
    "ftrs = pd.DataFrame([f for f in ftrs.itertuples() if \"3pm\" not in f.paths])\n",
    "ftrs['sub'] = ftrs['paths'].map(lambda x:x.split(\"/\")[-1].split(\"-\")[0])\n",
    "ftrs['date'] = ftrs['paths'].map(lambda x:\"-\".join(x.split(\"/\")[-1].split(\"-\")[1:4]))\n",
    "features  = ftrs.iloc[:,[2,3,4,5,6,7,8,9,10,11,12,13,14,15,18,17]]"
   ]
  },
  {
   "cell_type": "markdown",
   "metadata": {},
   "source": [
    "##### This is just to remind us what our options are for setting up feature/targets"
   ]
  },
  {
   "cell_type": "code",
   "execution_count": 327,
   "metadata": {},
   "outputs": [
    {
     "name": "stdout",
     "output_type": "stream",
     "text": [
      "{'QSP', 'OMG', 'BTC', 'REQ', 'NEO', 'NANO', 'ETH'}\n",
      "{'OMGTraders', 'nanocurrency', 'CryptoCurrency', 'ethereum', 'Bitcoin', 'omise_go', 'RequestNetwork', 'Quantstamp', 'NEO', 'ethtrader'}\n"
     ]
    }
   ],
   "source": [
    "print(set(targets['Coin']))\n",
    "print(set(ftrs['sub']))"
   ]
  },
  {
   "cell_type": "code",
   "execution_count": 474,
   "metadata": {},
   "outputs": [],
   "source": [
    "class regressor:\n",
    "  def __init__(self,X,Y):\n",
    "    self.X = X\n",
    "    self.Y = Y\n",
    "  def regression(self):\n",
    "    self.models = [{\"name\":\"SVR\",\"model\":LinearSVR()},\n",
    "          {\"name\":\"Lasso\",\"model\":Lasso()},\n",
    "          {\"name\":\"Ridge\",\"model\":Ridge()},\n",
    "          {\"name\":\"Neural Net\",\"model\":MLPRegressor(hidden_layer_sizes=(100,100,100,100,100,100,100,100))}]\n",
    "    X = self.X\n",
    "    Y = self.Y\n",
    "    for model in self.models:\n",
    "      scores = []\n",
    "      kf = KFold(n_splits=10)\n",
    "      print(f\"{model['name']} regression performance\")\n",
    "      for train_index,test_index in kf.split(X):\n",
    "        Xtrain, Xtest = X[train_index], X[test_index]\n",
    "        Ytrain, Ytest = Y[train_index], Y[test_index]\n",
    "        model['model'].fit(Xtrain,Ytrain)\n",
    "        mse = mean_squared_error(Ytest,model['model'].predict(Xtest))\n",
    "        scores.append(mse)\n",
    "      print(f\"{np.mean(scores)}\")\n",
    "  def plot(self,n=0,sign=False):\n",
    "    self.models[n]['model'].fit(X,Y)\n",
    "    X1 = self.models[n]['model'].predict(X)\n",
    "    X2 = Y\n",
    "    right_direction = 0\n",
    "    wrong_direction = 0\n",
    "    for i,p in enumerate(X1):\n",
    "      if np.sign(p) == np.sign(X2[i]): right_direction += 1\n",
    "      else: wrong_direction += 1\n",
    "    print(f\"Right:Wrong :: {right_direction}:{wrong_direction}\")\n",
    "    plt.plot(list(zip(X1,X2)))"
   ]
  },
  {
   "cell_type": "code",
   "execution_count": 453,
   "metadata": {},
   "outputs": [],
   "source": [
    "def makeXY(targets,features,coin,subs):\n",
    "  days = []\n",
    "  for sub in subs:\n",
    "    days.append(set(features[features['sub']==sub]['date']))       \n",
    "  days = sorted(list(reduce(lambda a,b: a|b, days)))\n",
    "  Y = []\n",
    "  #Collect target values\n",
    "  t = targets[targets['Coin']==coin]\n",
    "  for d in days:\n",
    "    c = int(t[t['PrvDay'] == d]['Change'])\n",
    "    Y.append(c)\n",
    "  #Collect features\n",
    "  X = np.zeros([len(days),len(subs)*14])\n",
    "  for j,sub in enumerate(subs):\n",
    "    f = features[features['sub']==sub]\n",
    "    for i,d in enumerate(days):\n",
    "      try:\n",
    "        X[i,j*14:j*14+14] = np.array(f[f['date']==d].iloc[:,:-2])\n",
    "      except:\n",
    "        X[i,j*14:j*14+14] = np.zeros(14)\n",
    "  return X,np.array(Y)\n"
   ]
  },
  {
   "cell_type": "code",
   "execution_count": 505,
   "metadata": {},
   "outputs": [],
   "source": [
    "X,Y = makeXY(targets,features,\"BTC\",[\"CryptoCurrency\",\"ethereum\",\"ethtrader\"])"
   ]
  },
  {
   "cell_type": "code",
   "execution_count": 506,
   "metadata": {},
   "outputs": [
    {
     "name": "stdout",
     "output_type": "stream",
     "text": [
      "SVR regression performance\n",
      "1363287.9853793036\n",
      "Lasso regression performance\n"
     ]
    },
    {
     "name": "stderr",
     "output_type": "stream",
     "text": [
      "/l/anaconda3-5.0.1/lib/python3.6/site-packages/sklearn/linear_model/coordinate_descent.py:491: ConvergenceWarning: Objective did not converge. You might want to increase the number of iterations. Fitting data with very small alpha may cause precision problems.\n",
      "  ConvergenceWarning)\n"
     ]
    },
    {
     "name": "stdout",
     "output_type": "stream",
     "text": [
      "853253.8400258307\n",
      "Ridge regression performance\n",
      "922450.4599425141\n",
      "Neural Net regression performance\n",
      "1133587.650838741\n",
      "Right:Wrong :: 103:44\n"
     ]
    },
    {
     "data": {
      "image/png": "[encoded data removed]",
      "text/plain": [
       "<matplotlib.figure.Figure at 0x7f81ef713e80>"
      ]
     },
     "metadata": {},
     "output_type": "display_data"
    }
   ],
   "source": [
    "R = regressor(X,Y)\n",
    "R.regression()\n",
    "R.plot(1)"
   ]
  },
  {
   "cell_type": "code",
   "execution_count": null,
   "metadata": {},
   "outputs": [],
   "source": []
  }
 ],
 "metadata": {
  "kernelspec": {
   "display_name": "Python 3",
   "language": "python",
   "name": "python3"
  },
  "language_info": {
   "codemirror_mode": {
    "name": "ipython",
    "version": 3
   },
   "file_extension": ".py",
   "mimetype": "text/x-python",
   "name": "python",
   "nbconvert_exporter": "python",
   "pygments_lexer": "ipython3",
   "version": "3.6.3"
  }
 },
 "nbformat": 4,
 "nbformat_minor": 2
}
